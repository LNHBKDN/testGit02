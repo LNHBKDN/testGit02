{
  "nbformat": 4,
  "nbformat_minor": 0,
  "metadata": {
    "colab": {
      "provenance": [],
      "gpuType": "T4",
      "authorship_tag": "ABX9TyN1LMCYSlcO4gCuEyZfIzUA",
      "include_colab_link": true
    },
    "kernelspec": {
      "name": "python3",
      "display_name": "Python 3"
    },
    "language_info": {
      "name": "python"
    },
    "accelerator": "GPU"
  },
  "cells": [
    {
      "cell_type": "markdown",
      "metadata": {
        "id": "view-in-github",
        "colab_type": "text"
      },
      "source": [
        "<a href=\"https://colab.research.google.com/github/LNHBKDN/testGit02/blob/main/Cifar.ipynb\" target=\"_parent\"><img src=\"https://colab.research.google.com/assets/colab-badge.svg\" alt=\"Open In Colab\"/></a>"
      ]
    },
    {
      "cell_type": "code",
      "execution_count": null,
      "metadata": {
        "id": "3bdvSUfHMyj7"
      },
      "outputs": [],
      "source": [
        "from tensorflow.keras.datasets import cifar10\n",
        "\n",
        "import numpy as np\n",
        "import pandas as pd\n",
        "\n",
        "import pickle\n",
        "\n",
        "from sklearn.model_selection import train_test_split\n",
        "from sklearn.metrics import classification_report\n",
        "\n",
        "import tensorflow as tf\n",
        "from tensorflow import keras\n",
        "from tensorflow.keras import utils\n",
        "\n",
        "from tensorflow.keras.models import Sequential\n",
        "from tensorflow.keras.layers import Dense, Flatten, Conv2D, Dropout, MaxPooling2D, GlobalAveragePooling2D, Activation, BatchNormalization\n",
        "from tensorflow.keras.callbacks import ModelCheckpoint\n",
        "from tensorflow.keras.optimizers import Adam\n",
        "from tensorflow.keras import regularizers\n",
        "\n",
        "from tensorflow.keras.preprocessing.image import ImageDataGenerator\n",
        "\n",
        "import matplotlib.pyplot as plt\n",
        "from PIL import Image"
      ]
    },
    {
      "cell_type": "code",
      "source": [
        "(X_train, y_train), (X_test, y_test) = cifar10.load_data()\n",
        "\n",
        "print('Training set shape:', X_train.shape)\n",
        "print('Test set shape:', X_test.shape)"
      ],
      "metadata": {
        "colab": {
          "base_uri": "https://localhost:8080/"
        },
        "id": "VVX1ZGh2NGy_",
        "outputId": "aa6c82bc-ec64-4097-cc14-4c89bc19081c"
      },
      "execution_count": null,
      "outputs": [
        {
          "output_type": "stream",
          "name": "stdout",
          "text": [
            "Downloading data from https://www.cs.toronto.edu/~kriz/cifar-10-python.tar.gz\n",
            "170498071/170498071 [==============================] - 4s 0us/step\n",
            "Training set shape: (50000, 32, 32, 3)\n",
            "Test set shape: (10000, 32, 32, 3)\n"
          ]
        }
      ]
    },
    {
      "cell_type": "code",
      "source": [
        "X_train = X_train.astype('float32')\n",
        "X_test = X_test.astype('float32')\n",
        "X_train = X_train / 255.0\n",
        "X_test = X_test / 255.0"
      ],
      "metadata": {
        "id": "RSIdgRvTNJVt"
      },
      "execution_count": null,
      "outputs": []
    },
    {
      "cell_type": "code",
      "source": [
        "!pip install tensorflow\n",
        "import tensorflow as tf\n",
        "from tensorflow.keras.utils import to_categorical\n",
        "\n",
        "# Define num_classes\n",
        "num_classes = 10\n",
        "\n",
        "# Convert labels to one-hot encoded format\n",
        "y_train = to_categorical(y_train, num_classes)\n",
        "y_test = to_categorical(y_test, num_classes)"
      ],
      "metadata": {
        "colab": {
          "base_uri": "https://localhost:8080/"
        },
        "id": "xyO9DPL6NLT2",
        "outputId": "37006d49-8734-4a84-be3e-25d5dc073a69"
      },
      "execution_count": null,
      "outputs": [
        {
          "output_type": "stream",
          "name": "stdout",
          "text": [
            "Requirement already satisfied: tensorflow in /usr/local/lib/python3.10/dist-packages (2.15.0)\n",
            "Requirement already satisfied: absl-py>=1.0.0 in /usr/local/lib/python3.10/dist-packages (from tensorflow) (1.4.0)\n",
            "Requirement already satisfied: astunparse>=1.6.0 in /usr/local/lib/python3.10/dist-packages (from tensorflow) (1.6.3)\n",
            "Requirement already satisfied: flatbuffers>=23.5.26 in /usr/local/lib/python3.10/dist-packages (from tensorflow) (24.3.7)\n",
            "Requirement already satisfied: gast!=0.5.0,!=0.5.1,!=0.5.2,>=0.2.1 in /usr/local/lib/python3.10/dist-packages (from tensorflow) (0.5.4)\n",
            "Requirement already satisfied: google-pasta>=0.1.1 in /usr/local/lib/python3.10/dist-packages (from tensorflow) (0.2.0)\n",
            "Requirement already satisfied: h5py>=2.9.0 in /usr/local/lib/python3.10/dist-packages (from tensorflow) (3.9.0)\n",
            "Requirement already satisfied: libclang>=13.0.0 in /usr/local/lib/python3.10/dist-packages (from tensorflow) (18.1.1)\n",
            "Requirement already satisfied: ml-dtypes~=0.2.0 in /usr/local/lib/python3.10/dist-packages (from tensorflow) (0.2.0)\n",
            "Requirement already satisfied: numpy<2.0.0,>=1.23.5 in /usr/local/lib/python3.10/dist-packages (from tensorflow) (1.25.2)\n",
            "Requirement already satisfied: opt-einsum>=2.3.2 in /usr/local/lib/python3.10/dist-packages (from tensorflow) (3.3.0)\n",
            "Requirement already satisfied: packaging in /usr/local/lib/python3.10/dist-packages (from tensorflow) (24.0)\n",
            "Requirement already satisfied: protobuf!=4.21.0,!=4.21.1,!=4.21.2,!=4.21.3,!=4.21.4,!=4.21.5,<5.0.0dev,>=3.20.3 in /usr/local/lib/python3.10/dist-packages (from tensorflow) (3.20.3)\n",
            "Requirement already satisfied: setuptools in /usr/local/lib/python3.10/dist-packages (from tensorflow) (67.7.2)\n",
            "Requirement already satisfied: six>=1.12.0 in /usr/local/lib/python3.10/dist-packages (from tensorflow) (1.16.0)\n",
            "Requirement already satisfied: termcolor>=1.1.0 in /usr/local/lib/python3.10/dist-packages (from tensorflow) (2.4.0)\n",
            "Requirement already satisfied: typing-extensions>=3.6.6 in /usr/local/lib/python3.10/dist-packages (from tensorflow) (4.10.0)\n",
            "Requirement already satisfied: wrapt<1.15,>=1.11.0 in /usr/local/lib/python3.10/dist-packages (from tensorflow) (1.14.1)\n",
            "Requirement already satisfied: tensorflow-io-gcs-filesystem>=0.23.1 in /usr/local/lib/python3.10/dist-packages (from tensorflow) (0.36.0)\n",
            "Requirement already satisfied: grpcio<2.0,>=1.24.3 in /usr/local/lib/python3.10/dist-packages (from tensorflow) (1.62.1)\n",
            "Requirement already satisfied: tensorboard<2.16,>=2.15 in /usr/local/lib/python3.10/dist-packages (from tensorflow) (2.15.2)\n",
            "Requirement already satisfied: tensorflow-estimator<2.16,>=2.15.0 in /usr/local/lib/python3.10/dist-packages (from tensorflow) (2.15.0)\n",
            "Requirement already satisfied: keras<2.16,>=2.15.0 in /usr/local/lib/python3.10/dist-packages (from tensorflow) (2.15.0)\n",
            "Requirement already satisfied: wheel<1.0,>=0.23.0 in /usr/local/lib/python3.10/dist-packages (from astunparse>=1.6.0->tensorflow) (0.43.0)\n",
            "Requirement already satisfied: google-auth<3,>=1.6.3 in /usr/local/lib/python3.10/dist-packages (from tensorboard<2.16,>=2.15->tensorflow) (2.27.0)\n",
            "Requirement already satisfied: google-auth-oauthlib<2,>=0.5 in /usr/local/lib/python3.10/dist-packages (from tensorboard<2.16,>=2.15->tensorflow) (1.2.0)\n",
            "Requirement already satisfied: markdown>=2.6.8 in /usr/local/lib/python3.10/dist-packages (from tensorboard<2.16,>=2.15->tensorflow) (3.6)\n",
            "Requirement already satisfied: requests<3,>=2.21.0 in /usr/local/lib/python3.10/dist-packages (from tensorboard<2.16,>=2.15->tensorflow) (2.31.0)\n",
            "Requirement already satisfied: tensorboard-data-server<0.8.0,>=0.7.0 in /usr/local/lib/python3.10/dist-packages (from tensorboard<2.16,>=2.15->tensorflow) (0.7.2)\n",
            "Requirement already satisfied: werkzeug>=1.0.1 in /usr/local/lib/python3.10/dist-packages (from tensorboard<2.16,>=2.15->tensorflow) (3.0.1)\n",
            "Requirement already satisfied: cachetools<6.0,>=2.0.0 in /usr/local/lib/python3.10/dist-packages (from google-auth<3,>=1.6.3->tensorboard<2.16,>=2.15->tensorflow) (5.3.3)\n",
            "Requirement already satisfied: pyasn1-modules>=0.2.1 in /usr/local/lib/python3.10/dist-packages (from google-auth<3,>=1.6.3->tensorboard<2.16,>=2.15->tensorflow) (0.3.0)\n",
            "Requirement already satisfied: rsa<5,>=3.1.4 in /usr/local/lib/python3.10/dist-packages (from google-auth<3,>=1.6.3->tensorboard<2.16,>=2.15->tensorflow) (4.9)\n",
            "Requirement already satisfied: requests-oauthlib>=0.7.0 in /usr/local/lib/python3.10/dist-packages (from google-auth-oauthlib<2,>=0.5->tensorboard<2.16,>=2.15->tensorflow) (1.4.0)\n",
            "Requirement already satisfied: charset-normalizer<4,>=2 in /usr/local/lib/python3.10/dist-packages (from requests<3,>=2.21.0->tensorboard<2.16,>=2.15->tensorflow) (3.3.2)\n",
            "Requirement already satisfied: idna<4,>=2.5 in /usr/local/lib/python3.10/dist-packages (from requests<3,>=2.21.0->tensorboard<2.16,>=2.15->tensorflow) (3.6)\n",
            "Requirement already satisfied: urllib3<3,>=1.21.1 in /usr/local/lib/python3.10/dist-packages (from requests<3,>=2.21.0->tensorboard<2.16,>=2.15->tensorflow) (2.0.7)\n",
            "Requirement already satisfied: certifi>=2017.4.17 in /usr/local/lib/python3.10/dist-packages (from requests<3,>=2.21.0->tensorboard<2.16,>=2.15->tensorflow) (2024.2.2)\n",
            "Requirement already satisfied: MarkupSafe>=2.1.1 in /usr/local/lib/python3.10/dist-packages (from werkzeug>=1.0.1->tensorboard<2.16,>=2.15->tensorflow) (2.1.5)\n",
            "Requirement already satisfied: pyasn1<0.6.0,>=0.4.6 in /usr/local/lib/python3.10/dist-packages (from pyasn1-modules>=0.2.1->google-auth<3,>=1.6.3->tensorboard<2.16,>=2.15->tensorflow) (0.5.1)\n",
            "Requirement already satisfied: oauthlib>=3.0.0 in /usr/local/lib/python3.10/dist-packages (from requests-oauthlib>=0.7.0->google-auth-oauthlib<2,>=0.5->tensorboard<2.16,>=2.15->tensorflow) (3.2.2)\n"
          ]
        }
      ]
    },
    {
      "cell_type": "code",
      "source": [
        "X_train, X_valid, y_train, y_valid = train_test_split(X_train, y_train, test_size=0.2)"
      ],
      "metadata": {
        "id": "fZjSWLZINNyt"
      },
      "execution_count": null,
      "outputs": []
    },
    {
      "cell_type": "code",
      "source": [
        "def cnn_model():\n",
        "\n",
        "    model = Sequential()\n",
        "\n",
        "    # First Conv layer\n",
        "    model.add(Conv2D(filters=128, kernel_size=(3,3), activation='relu', padding='same', kernel_regularizer=regularizers.l2(1e-4), input_shape=(32,32,3)))\n",
        "    model.add(MaxPooling2D(pool_size=(2,2)))\n",
        "    model.add(Dropout(0.3))\n",
        "\n",
        "    # Second Conv layer\n",
        "    model.add(Conv2D(filters=256, kernel_size=(3,3), activation='relu', padding='same', kernel_regularizer=regularizers.l2(1e-4)))\n",
        "    model.add(MaxPooling2D(pool_size=(2,2)))\n",
        "    model.add(Dropout(0.3))\n",
        "\n",
        "    # Third, fourth, fifth convolution layer\n",
        "    model.add(Conv2D(filters=512, kernel_size=(3,3), activation='relu', padding='same', kernel_regularizer=regularizers.l2(1e-4)))\n",
        "    model.add(Conv2D(filters=512, kernel_size=(3,3), activation='relu', padding='same', kernel_regularizer=regularizers.l2(1e-4)))\n",
        "    model.add(Conv2D(filters=256, kernel_size=(3,3), activation='relu', padding='same', kernel_regularizer=regularizers.l2(1e-4)))\n",
        "    model.add(MaxPooling2D(pool_size=(2,2)))\n",
        "    model.add(Dropout(0.3))\n",
        "\n",
        "    # Fully Connected layers\n",
        "    model.add(Flatten())\n",
        "\n",
        "    model.add(Dense(512, activation='relu'))\n",
        "    model.add(Dropout(0.5))\n",
        "    model.add(Dense(256, activation='relu'))\n",
        "    model.add(Dropout(0.5))\n",
        "    model.add(Dense(128, activation='relu'))\n",
        "    model.add(Dropout(0.5))\n",
        "\n",
        "    model.add(Dense(10, activation='softmax'))\n",
        "\n",
        "    model.summary()\n",
        "\n",
        "    return model"
      ],
      "metadata": {
        "id": "VdWDAeV7NbnM"
      },
      "execution_count": null,
      "outputs": []
    },
    {
      "cell_type": "code",
      "source": [
        "datagen = ImageDataGenerator(featurewise_center=False,\n",
        "                            samplewise_center=False,\n",
        "                            featurewise_std_normalization=False,\n",
        "                            samplewise_std_normalization=False,\n",
        "                            zca_whitening=False,\n",
        "                            rotation_range=15,\n",
        "                            width_shift_range=0.1,\n",
        "                            height_shift_range=0.1,\n",
        "                            horizontal_flip=True,\n",
        "                            vertical_flip=False)\n",
        "\n",
        "datagen.fit(X_train)"
      ],
      "metadata": {
        "id": "MsEB4VaYNfoZ"
      },
      "execution_count": null,
      "outputs": []
    },
    {
      "cell_type": "code",
      "source": [
        "model = cnn_model()"
      ],
      "metadata": {
        "colab": {
          "base_uri": "https://localhost:8080/"
        },
        "id": "idwJrusFNiN9",
        "outputId": "2aa4a363-9d83-43ed-c504-306f19abe73a"
      },
      "execution_count": null,
      "outputs": [
        {
          "output_type": "stream",
          "name": "stdout",
          "text": [
            "Model: \"sequential\"\n",
            "_________________________________________________________________\n",
            " Layer (type)                Output Shape              Param #   \n",
            "=================================================================\n",
            " conv2d (Conv2D)             (None, 32, 32, 128)       3584      \n",
            "                                                                 \n",
            " max_pooling2d (MaxPooling2  (None, 16, 16, 128)       0         \n",
            " D)                                                              \n",
            "                                                                 \n",
            " dropout (Dropout)           (None, 16, 16, 128)       0         \n",
            "                                                                 \n",
            " conv2d_1 (Conv2D)           (None, 16, 16, 256)       295168    \n",
            "                                                                 \n",
            " max_pooling2d_1 (MaxPoolin  (None, 8, 8, 256)         0         \n",
            " g2D)                                                            \n",
            "                                                                 \n",
            " dropout_1 (Dropout)         (None, 8, 8, 256)         0         \n",
            "                                                                 \n",
            " conv2d_2 (Conv2D)           (None, 8, 8, 512)         1180160   \n",
            "                                                                 \n",
            " conv2d_3 (Conv2D)           (None, 8, 8, 512)         2359808   \n",
            "                                                                 \n",
            " conv2d_4 (Conv2D)           (None, 8, 8, 256)         1179904   \n",
            "                                                                 \n",
            " max_pooling2d_2 (MaxPoolin  (None, 4, 4, 256)         0         \n",
            " g2D)                                                            \n",
            "                                                                 \n",
            " dropout_2 (Dropout)         (None, 4, 4, 256)         0         \n",
            "                                                                 \n",
            " flatten (Flatten)           (None, 4096)              0         \n",
            "                                                                 \n",
            " dense (Dense)               (None, 512)               2097664   \n",
            "                                                                 \n",
            " dropout_3 (Dropout)         (None, 512)               0         \n",
            "                                                                 \n",
            " dense_1 (Dense)             (None, 256)               131328    \n",
            "                                                                 \n",
            " dropout_4 (Dropout)         (None, 256)               0         \n",
            "                                                                 \n",
            " dense_2 (Dense)             (None, 128)               32896     \n",
            "                                                                 \n",
            " dropout_5 (Dropout)         (None, 128)               0         \n",
            "                                                                 \n",
            " dense_3 (Dense)             (None, 10)                1290      \n",
            "                                                                 \n",
            "=================================================================\n",
            "Total params: 7281802 (27.78 MB)\n",
            "Trainable params: 7281802 (27.78 MB)\n",
            "Non-trainable params: 0 (0.00 Byte)\n",
            "_________________________________________________________________\n"
          ]
        }
      ]
    },
    {
      "cell_type": "code",
      "source": [
        "!pip install --upgrade keras\n",
        "from tensorflow.keras.optimizers import Adam\n",
        "model.compile(loss='categorical_crossentropy',\n",
        "             optimizer=Adam(learning_rate=0.0003, weight_decay=1e-6),\n",
        "             metrics=['accuracy'])"
      ],
      "metadata": {
        "colab": {
          "base_uri": "https://localhost:8080/",
          "height": 565
        },
        "id": "_pb_usn4Nk-_",
        "outputId": "ed481499-a53c-4a85-d28a-65cdadec917e"
      },
      "execution_count": null,
      "outputs": [
        {
          "output_type": "stream",
          "name": "stdout",
          "text": [
            "Requirement already satisfied: keras in /usr/local/lib/python3.10/dist-packages (2.15.0)\n",
            "Collecting keras\n",
            "  Downloading keras-3.1.1-py3-none-any.whl (1.1 MB)\n",
            "\u001b[2K     \u001b[90m━━━━━━━━━━━━━━━━━━━━━━━━━━━━━━━━━━━━━━━━\u001b[0m \u001b[32m1.1/1.1 MB\u001b[0m \u001b[31m8.5 MB/s\u001b[0m eta \u001b[36m0:00:00\u001b[0m\n",
            "\u001b[?25hRequirement already satisfied: absl-py in /usr/local/lib/python3.10/dist-packages (from keras) (1.4.0)\n",
            "Requirement already satisfied: numpy in /usr/local/lib/python3.10/dist-packages (from keras) (1.25.2)\n",
            "Requirement already satisfied: rich in /usr/local/lib/python3.10/dist-packages (from keras) (13.7.1)\n",
            "Collecting namex (from keras)\n",
            "  Downloading namex-0.0.7-py3-none-any.whl (5.8 kB)\n",
            "Requirement already satisfied: h5py in /usr/local/lib/python3.10/dist-packages (from keras) (3.9.0)\n",
            "Collecting optree (from keras)\n",
            "  Downloading optree-0.10.0-cp310-cp310-manylinux_2_17_x86_64.manylinux2014_x86_64.whl (286 kB)\n",
            "\u001b[2K     \u001b[90m━━━━━━━━━━━━━━━━━━━━━━━━━━━━━━━━━━━━━━━━\u001b[0m \u001b[32m286.8/286.8 kB\u001b[0m \u001b[31m12.0 MB/s\u001b[0m eta \u001b[36m0:00:00\u001b[0m\n",
            "\u001b[?25hRequirement already satisfied: ml-dtypes in /usr/local/lib/python3.10/dist-packages (from keras) (0.2.0)\n",
            "Requirement already satisfied: typing-extensions>=4.0.0 in /usr/local/lib/python3.10/dist-packages (from optree->keras) (4.10.0)\n",
            "Requirement already satisfied: markdown-it-py>=2.2.0 in /usr/local/lib/python3.10/dist-packages (from rich->keras) (3.0.0)\n",
            "Requirement already satisfied: pygments<3.0.0,>=2.13.0 in /usr/local/lib/python3.10/dist-packages (from rich->keras) (2.16.1)\n",
            "Requirement already satisfied: mdurl~=0.1 in /usr/local/lib/python3.10/dist-packages (from markdown-it-py>=2.2.0->rich->keras) (0.1.2)\n",
            "Installing collected packages: namex, optree, keras\n",
            "  Attempting uninstall: keras\n",
            "    Found existing installation: keras 2.15.0\n",
            "    Uninstalling keras-2.15.0:\n",
            "      Successfully uninstalled keras-2.15.0\n",
            "\u001b[31mERROR: pip's dependency resolver does not currently take into account all the packages that are installed. This behaviour is the source of the following dependency conflicts.\n",
            "tensorflow 2.15.0 requires keras<2.16,>=2.15.0, but you have keras 3.1.1 which is incompatible.\u001b[0m\u001b[31m\n",
            "\u001b[0mSuccessfully installed keras-3.1.1 namex-0.0.7 optree-0.10.0\n"
          ]
        },
        {
          "output_type": "display_data",
          "data": {
            "application/vnd.colab-display-data+json": {
              "pip_warning": {
                "packages": [
                  "keras"
                ]
              },
              "id": "a9a46540133a4424b286061bb3fcb4f4"
            }
          },
          "metadata": {}
        }
      ]
    },
    {
      "cell_type": "code",
      "source": [
        "history = model.fit_generator(datagen.flow(X_train, y_train, batch_size = 64),\n",
        "                    steps_per_epoch = len(X_train) // 64,\n",
        "                    epochs = 50,\n",
        "                    validation_data= (X_valid, y_valid),\n",
        "                    verbose=1)"
      ],
      "metadata": {
        "colab": {
          "base_uri": "https://localhost:8080/"
        },
        "id": "DCxH_MSBOiYN",
        "outputId": "dbf3ed43-15b8-45ab-c9cf-d54df02592ab"
      },
      "execution_count": null,
      "outputs": [
        {
          "output_type": "stream",
          "name": "stderr",
          "text": [
            "<ipython-input-10-221704edf63a>:1: UserWarning: `Model.fit_generator` is deprecated and will be removed in a future version. Please use `Model.fit`, which supports generators.\n",
            "  history = model.fit_generator(datagen.flow(X_train, y_train, batch_size = 64),\n"
          ]
        },
        {
          "output_type": "stream",
          "name": "stdout",
          "text": [
            "Epoch 1/125\n"
          ]
        },
        {
          "output_type": "stream",
          "name": "stderr",
          "text": [
            "WARNING:tensorflow:AutoGraph could not transform <function Model.make_train_function.<locals>.train_function at 0x7cad6342f370> and will run it as-is.\n",
            "Cause: Unable to locate the source code of <function Model.make_train_function.<locals>.train_function at 0x7cad6342f370>. Note that functions defined in certain environments, like the interactive Python shell, do not expose their source code. If that is the case, you should define them in a .py source file. If you are certain the code is graph-compatible, wrap the call using @tf.autograph.experimental.do_not_convert. Original error: could not get source code\n",
            "To silence this warning, decorate the function with @tf.autograph.experimental.do_not_convert\n"
          ]
        },
        {
          "output_type": "stream",
          "name": "stdout",
          "text": [
            "WARNING: AutoGraph could not transform <function Model.make_train_function.<locals>.train_function at 0x7cad6342f370> and will run it as-is.\n",
            "Cause: Unable to locate the source code of <function Model.make_train_function.<locals>.train_function at 0x7cad6342f370>. Note that functions defined in certain environments, like the interactive Python shell, do not expose their source code. If that is the case, you should define them in a .py source file. If you are certain the code is graph-compatible, wrap the call using @tf.autograph.experimental.do_not_convert. Original error: could not get source code\n",
            "To silence this warning, decorate the function with @tf.autograph.experimental.do_not_convert\n"
          ]
        },
        {
          "output_type": "stream",
          "name": "stderr",
          "text": [
            "WARNING:tensorflow:AutoGraph could not transform <bound method _BaseOptimizer._update_step_xla of <tensorflow.python.eager.polymorphic_function.tf_method_target.TfMethodTarget object at 0x7cad2c387160>> and will run it as-is.\n",
            "Cause: Unable to locate the source code of <bound method _BaseOptimizer._update_step_xla of <tensorflow.python.eager.polymorphic_function.tf_method_target.TfMethodTarget object at 0x7cad2c387160>>. Note that functions defined in certain environments, like the interactive Python shell, do not expose their source code. If that is the case, you should define them in a .py source file. If you are certain the code is graph-compatible, wrap the call using @tf.autograph.experimental.do_not_convert. Original error: lineno is out of bounds\n",
            "To silence this warning, decorate the function with @tf.autograph.experimental.do_not_convert\n"
          ]
        },
        {
          "output_type": "stream",
          "name": "stdout",
          "text": [
            "WARNING: AutoGraph could not transform <bound method _BaseOptimizer._update_step_xla of <tensorflow.python.eager.polymorphic_function.tf_method_target.TfMethodTarget object at 0x7cad2c387160>> and will run it as-is.\n",
            "Cause: Unable to locate the source code of <bound method _BaseOptimizer._update_step_xla of <tensorflow.python.eager.polymorphic_function.tf_method_target.TfMethodTarget object at 0x7cad2c387160>>. Note that functions defined in certain environments, like the interactive Python shell, do not expose their source code. If that is the case, you should define them in a .py source file. If you are certain the code is graph-compatible, wrap the call using @tf.autograph.experimental.do_not_convert. Original error: lineno is out of bounds\n",
            "To silence this warning, decorate the function with @tf.autograph.experimental.do_not_convert\n",
            "625/625 [==============================] - ETA: 0s - loss: 2.1379 - accuracy: 0.2104"
          ]
        },
        {
          "output_type": "stream",
          "name": "stderr",
          "text": [
            "WARNING:tensorflow:AutoGraph could not transform <function Model.make_test_function.<locals>.test_function at 0x7cad2c0dc1f0> and will run it as-is.\n",
            "Cause: Unable to locate the source code of <function Model.make_test_function.<locals>.test_function at 0x7cad2c0dc1f0>. Note that functions defined in certain environments, like the interactive Python shell, do not expose their source code. If that is the case, you should define them in a .py source file. If you are certain the code is graph-compatible, wrap the call using @tf.autograph.experimental.do_not_convert. Original error: could not get source code\n",
            "To silence this warning, decorate the function with @tf.autograph.experimental.do_not_convert\n"
          ]
        },
        {
          "output_type": "stream",
          "name": "stdout",
          "text": [
            "WARNING: AutoGraph could not transform <function Model.make_test_function.<locals>.test_function at 0x7cad2c0dc1f0> and will run it as-is.\n",
            "Cause: Unable to locate the source code of <function Model.make_test_function.<locals>.test_function at 0x7cad2c0dc1f0>. Note that functions defined in certain environments, like the interactive Python shell, do not expose their source code. If that is the case, you should define them in a .py source file. If you are certain the code is graph-compatible, wrap the call using @tf.autograph.experimental.do_not_convert. Original error: could not get source code\n",
            "To silence this warning, decorate the function with @tf.autograph.experimental.do_not_convert\n",
            "625/625 [==============================] - 45s 51ms/step - loss: 2.1379 - accuracy: 0.2104 - val_loss: 1.7763 - val_accuracy: 0.3404\n",
            "Epoch 2/125\n",
            "625/625 [==============================] - 31s 50ms/step - loss: 1.7177 - accuracy: 0.3661 - val_loss: 1.4606 - val_accuracy: 0.4637\n",
            "Epoch 3/125\n",
            "625/625 [==============================] - 31s 50ms/step - loss: 1.5322 - accuracy: 0.4470 - val_loss: 1.4307 - val_accuracy: 0.4932\n",
            "Epoch 4/125\n",
            "625/625 [==============================] - 31s 49ms/step - loss: 1.4137 - accuracy: 0.5031 - val_loss: 1.2280 - val_accuracy: 0.5713\n",
            "Epoch 5/125\n",
            "625/625 [==============================] - 31s 49ms/step - loss: 1.3217 - accuracy: 0.5433 - val_loss: 1.1802 - val_accuracy: 0.5907\n",
            "Epoch 6/125\n",
            "625/625 [==============================] - 31s 50ms/step - loss: 1.2366 - accuracy: 0.5817 - val_loss: 1.1178 - val_accuracy: 0.6152\n",
            "Epoch 7/125\n",
            "625/625 [==============================] - 31s 49ms/step - loss: 1.1692 - accuracy: 0.6090 - val_loss: 1.0698 - val_accuracy: 0.6348\n",
            "Epoch 8/125\n",
            "625/625 [==============================] - 31s 49ms/step - loss: 1.1150 - accuracy: 0.6339 - val_loss: 1.0553 - val_accuracy: 0.6514\n",
            "Epoch 9/125\n",
            "625/625 [==============================] - 31s 49ms/step - loss: 1.0755 - accuracy: 0.6498 - val_loss: 0.9085 - val_accuracy: 0.6962\n",
            "Epoch 10/125\n",
            "625/625 [==============================] - 31s 49ms/step - loss: 1.0383 - accuracy: 0.6670 - val_loss: 0.9397 - val_accuracy: 0.6865\n",
            "Epoch 11/125\n",
            "625/625 [==============================] - 30s 47ms/step - loss: 1.0075 - accuracy: 0.6777 - val_loss: 0.8808 - val_accuracy: 0.7138\n",
            "Epoch 12/125\n",
            "625/625 [==============================] - 30s 48ms/step - loss: 0.9825 - accuracy: 0.6927 - val_loss: 0.8557 - val_accuracy: 0.7310\n",
            "Epoch 13/125\n",
            "625/625 [==============================] - 30s 48ms/step - loss: 0.9509 - accuracy: 0.7054 - val_loss: 0.8670 - val_accuracy: 0.7267\n",
            "Epoch 14/125\n",
            "625/625 [==============================] - 30s 49ms/step - loss: 0.9259 - accuracy: 0.7150 - val_loss: 0.8624 - val_accuracy: 0.7352\n",
            "Epoch 15/125\n",
            "625/625 [==============================] - 31s 50ms/step - loss: 0.9014 - accuracy: 0.7227 - val_loss: 0.8175 - val_accuracy: 0.7487\n",
            "Epoch 16/125\n",
            "625/625 [==============================] - 30s 47ms/step - loss: 0.8793 - accuracy: 0.7332 - val_loss: 0.8006 - val_accuracy: 0.7524\n",
            "Epoch 17/125\n",
            "625/625 [==============================] - 31s 49ms/step - loss: 0.8659 - accuracy: 0.7400 - val_loss: 0.8252 - val_accuracy: 0.7430\n",
            "Epoch 18/125\n",
            "625/625 [==============================] - 31s 49ms/step - loss: 0.8499 - accuracy: 0.7449 - val_loss: 0.7509 - val_accuracy: 0.7718\n",
            "Epoch 19/125\n",
            "625/625 [==============================] - 31s 50ms/step - loss: 0.8330 - accuracy: 0.7523 - val_loss: 0.7316 - val_accuracy: 0.7787\n",
            "Epoch 20/125\n",
            "625/625 [==============================] - 29s 47ms/step - loss: 0.8148 - accuracy: 0.7589 - val_loss: 0.7543 - val_accuracy: 0.7736\n",
            "Epoch 21/125\n",
            "625/625 [==============================] - 30s 48ms/step - loss: 0.7989 - accuracy: 0.7658 - val_loss: 0.7713 - val_accuracy: 0.7654\n",
            "Epoch 22/125\n",
            "625/625 [==============================] - 31s 49ms/step - loss: 0.7877 - accuracy: 0.7718 - val_loss: 0.7890 - val_accuracy: 0.7754\n",
            "Epoch 23/125\n",
            "625/625 [==============================] - 30s 48ms/step - loss: 0.7798 - accuracy: 0.7778 - val_loss: 0.7714 - val_accuracy: 0.7713\n",
            "Epoch 24/125\n",
            "625/625 [==============================] - 31s 49ms/step - loss: 0.7688 - accuracy: 0.7796 - val_loss: 0.7717 - val_accuracy: 0.7757\n",
            "Epoch 25/125\n",
            "625/625 [==============================] - 30s 48ms/step - loss: 0.7536 - accuracy: 0.7856 - val_loss: 0.7563 - val_accuracy: 0.7849\n",
            "Epoch 26/125\n",
            "625/625 [==============================] - 29s 47ms/step - loss: 0.7504 - accuracy: 0.7880 - val_loss: 0.7158 - val_accuracy: 0.7931\n",
            "Epoch 27/125\n",
            "625/625 [==============================] - 29s 47ms/step - loss: 0.7410 - accuracy: 0.7903 - val_loss: 0.7200 - val_accuracy: 0.7909\n",
            "Epoch 28/125\n",
            "625/625 [==============================] - 31s 49ms/step - loss: 0.7331 - accuracy: 0.7942 - val_loss: 0.7066 - val_accuracy: 0.8015\n",
            "Epoch 29/125\n",
            "625/625 [==============================] - 31s 49ms/step - loss: 0.7200 - accuracy: 0.7998 - val_loss: 0.7348 - val_accuracy: 0.7937\n",
            "Epoch 30/125\n",
            "625/625 [==============================] - 31s 50ms/step - loss: 0.7069 - accuracy: 0.8074 - val_loss: 0.6811 - val_accuracy: 0.8124\n",
            "Epoch 31/125\n",
            "625/625 [==============================] - 31s 50ms/step - loss: 0.7049 - accuracy: 0.8071 - val_loss: 0.6959 - val_accuracy: 0.8039\n",
            "Epoch 32/125\n",
            "625/625 [==============================] - 30s 48ms/step - loss: 0.6990 - accuracy: 0.8094 - val_loss: 0.6550 - val_accuracy: 0.8169\n",
            "Epoch 33/125\n",
            "625/625 [==============================] - 31s 50ms/step - loss: 0.6947 - accuracy: 0.8110 - val_loss: 0.6953 - val_accuracy: 0.8069\n",
            "Epoch 34/125\n",
            "625/625 [==============================] - 30s 48ms/step - loss: 0.6814 - accuracy: 0.8173 - val_loss: 0.7092 - val_accuracy: 0.8039\n",
            "Epoch 35/125\n",
            "625/625 [==============================] - 31s 50ms/step - loss: 0.6827 - accuracy: 0.8171 - val_loss: 0.6770 - val_accuracy: 0.8190\n",
            "Epoch 36/125\n",
            "625/625 [==============================] - 30s 48ms/step - loss: 0.6713 - accuracy: 0.8193 - val_loss: 0.6381 - val_accuracy: 0.8290\n",
            "Epoch 37/125\n",
            "625/625 [==============================] - 31s 49ms/step - loss: 0.6648 - accuracy: 0.8237 - val_loss: 0.6558 - val_accuracy: 0.8248\n",
            "Epoch 38/125\n",
            "625/625 [==============================] - 31s 50ms/step - loss: 0.6771 - accuracy: 0.8210 - val_loss: 0.6836 - val_accuracy: 0.8175\n",
            "Epoch 39/125\n",
            "625/625 [==============================] - 31s 50ms/step - loss: 0.6606 - accuracy: 0.8255 - val_loss: 0.7102 - val_accuracy: 0.8112\n",
            "Epoch 40/125\n",
            "625/625 [==============================] - 30s 48ms/step - loss: 0.6584 - accuracy: 0.8296 - val_loss: 0.6876 - val_accuracy: 0.8210\n",
            "Epoch 41/125\n",
            "625/625 [==============================] - 30s 49ms/step - loss: 0.6576 - accuracy: 0.8277 - val_loss: 0.6754 - val_accuracy: 0.8219\n",
            "Epoch 42/125\n",
            "625/625 [==============================] - 31s 50ms/step - loss: 0.6398 - accuracy: 0.8343 - val_loss: 0.6445 - val_accuracy: 0.8335\n",
            "Epoch 43/125\n",
            "625/625 [==============================] - 31s 49ms/step - loss: 0.6379 - accuracy: 0.8356 - val_loss: 0.6570 - val_accuracy: 0.8329\n",
            "Epoch 44/125\n",
            "625/625 [==============================] - 32s 51ms/step - loss: 0.6387 - accuracy: 0.8360 - val_loss: 0.7980 - val_accuracy: 0.7990\n",
            "Epoch 45/125\n",
            "625/625 [==============================] - 30s 48ms/step - loss: 0.6319 - accuracy: 0.8373 - val_loss: 0.6464 - val_accuracy: 0.8335\n",
            "Epoch 46/125\n",
            "625/625 [==============================] - 31s 49ms/step - loss: 0.6305 - accuracy: 0.8396 - val_loss: 0.6853 - val_accuracy: 0.8252\n",
            "Epoch 47/125\n",
            "625/625 [==============================] - 31s 50ms/step - loss: 0.6285 - accuracy: 0.8417 - val_loss: 0.6506 - val_accuracy: 0.8325\n",
            "Epoch 48/125\n",
            "625/625 [==============================] - 31s 49ms/step - loss: 0.6208 - accuracy: 0.8465 - val_loss: 0.6843 - val_accuracy: 0.8279\n",
            "Epoch 49/125\n",
            "625/625 [==============================] - 31s 49ms/step - loss: 0.6133 - accuracy: 0.8475 - val_loss: 0.6847 - val_accuracy: 0.8310\n",
            "Epoch 50/125\n",
            "625/625 [==============================] - 32s 51ms/step - loss: 0.6143 - accuracy: 0.8485 - val_loss: 0.6716 - val_accuracy: 0.8339\n",
            "Epoch 51/125\n",
            "625/625 [==============================] - 30s 48ms/step - loss: 0.6255 - accuracy: 0.8471 - val_loss: 0.6683 - val_accuracy: 0.8306\n",
            "Epoch 52/125\n",
            "625/625 [==============================] - 32s 51ms/step - loss: 0.6096 - accuracy: 0.8498 - val_loss: 0.6857 - val_accuracy: 0.8346\n",
            "Epoch 53/125\n",
            "625/625 [==============================] - 30s 47ms/step - loss: 0.6044 - accuracy: 0.8515 - val_loss: 0.6593 - val_accuracy: 0.8387\n",
            "Epoch 54/125\n",
            "625/625 [==============================] - 32s 50ms/step - loss: 0.6120 - accuracy: 0.8508 - val_loss: 0.6794 - val_accuracy: 0.8318\n",
            "Epoch 55/125\n",
            "625/625 [==============================] - 30s 48ms/step - loss: 0.6037 - accuracy: 0.8516 - val_loss: 0.6481 - val_accuracy: 0.8401\n",
            "Epoch 56/125\n",
            "625/625 [==============================] - 31s 50ms/step - loss: 0.6033 - accuracy: 0.8549 - val_loss: 0.6839 - val_accuracy: 0.8316\n",
            "Epoch 57/125\n",
            "625/625 [==============================] - 30s 48ms/step - loss: 0.6036 - accuracy: 0.8528 - val_loss: 0.6818 - val_accuracy: 0.8337\n",
            "Epoch 58/125\n",
            "625/625 [==============================] - 31s 50ms/step - loss: 0.6026 - accuracy: 0.8556 - val_loss: 0.6586 - val_accuracy: 0.8435\n",
            "Epoch 59/125\n",
            "625/625 [==============================] - 30s 48ms/step - loss: 0.5977 - accuracy: 0.8569 - val_loss: 0.6890 - val_accuracy: 0.8292\n",
            "Epoch 60/125\n",
            "625/625 [==============================] - 30s 48ms/step - loss: 0.5964 - accuracy: 0.8572 - val_loss: 0.6179 - val_accuracy: 0.8491\n",
            "Epoch 61/125\n",
            "625/625 [==============================] - 30s 48ms/step - loss: 0.5895 - accuracy: 0.8600 - val_loss: 0.6719 - val_accuracy: 0.8424\n",
            "Epoch 62/125\n",
            "625/625 [==============================] - 30s 48ms/step - loss: 0.5905 - accuracy: 0.8595 - val_loss: 0.6536 - val_accuracy: 0.8466\n",
            "Epoch 63/125\n",
            "625/625 [==============================] - 31s 49ms/step - loss: 0.5889 - accuracy: 0.8600 - val_loss: 0.6846 - val_accuracy: 0.8391\n",
            "Epoch 64/125\n",
            "625/625 [==============================] - 32s 51ms/step - loss: 0.5883 - accuracy: 0.8600 - val_loss: 0.6591 - val_accuracy: 0.8430\n",
            "Epoch 65/125\n",
            "625/625 [==============================] - 31s 50ms/step - loss: 0.5900 - accuracy: 0.8640 - val_loss: 0.6600 - val_accuracy: 0.8378\n",
            "Epoch 66/125\n",
            "625/625 [==============================] - 31s 50ms/step - loss: 0.5799 - accuracy: 0.8651 - val_loss: 0.6411 - val_accuracy: 0.8493\n",
            "Epoch 67/125\n",
            "625/625 [==============================] - 31s 50ms/step - loss: 0.5864 - accuracy: 0.8610 - val_loss: 0.6990 - val_accuracy: 0.8301\n",
            "Epoch 68/125\n",
            "625/625 [==============================] - 32s 51ms/step - loss: 0.5805 - accuracy: 0.8660 - val_loss: 0.6368 - val_accuracy: 0.8566\n",
            "Epoch 69/125\n",
            "625/625 [==============================] - 31s 50ms/step - loss: 0.5766 - accuracy: 0.8674 - val_loss: 0.6342 - val_accuracy: 0.8512\n",
            "Epoch 70/125\n",
            "625/625 [==============================] - 31s 50ms/step - loss: 0.5747 - accuracy: 0.8697 - val_loss: 0.7939 - val_accuracy: 0.8114\n",
            "Epoch 71/125\n",
            "625/625 [==============================] - 31s 49ms/step - loss: 0.5765 - accuracy: 0.8655 - val_loss: 0.6858 - val_accuracy: 0.8353\n",
            "Epoch 72/125\n",
            "625/625 [==============================] - 31s 50ms/step - loss: 0.5739 - accuracy: 0.8694 - val_loss: 0.6674 - val_accuracy: 0.8442\n",
            "Epoch 73/125\n",
            "625/625 [==============================] - 30s 47ms/step - loss: 0.5718 - accuracy: 0.8692 - val_loss: 0.6885 - val_accuracy: 0.8407\n",
            "Epoch 74/125\n",
            "625/625 [==============================] - 31s 49ms/step - loss: 0.5684 - accuracy: 0.8707 - val_loss: 0.6534 - val_accuracy: 0.8483\n",
            "Epoch 75/125\n",
            "625/625 [==============================] - 30s 48ms/step - loss: 0.5697 - accuracy: 0.8703 - val_loss: 0.6555 - val_accuracy: 0.8476\n",
            "Epoch 76/125\n",
            "625/625 [==============================] - 31s 49ms/step - loss: 0.5638 - accuracy: 0.8741 - val_loss: 0.6753 - val_accuracy: 0.8446\n",
            "Epoch 77/125\n",
            "625/625 [==============================] - 31s 50ms/step - loss: 0.5706 - accuracy: 0.8709 - val_loss: 0.6516 - val_accuracy: 0.8534\n",
            "Epoch 78/125\n",
            "625/625 [==============================] - 30s 48ms/step - loss: 0.5679 - accuracy: 0.8737 - val_loss: 0.6779 - val_accuracy: 0.8413\n",
            "Epoch 79/125\n",
            "625/625 [==============================] - 31s 49ms/step - loss: 0.5653 - accuracy: 0.8747 - val_loss: 0.7517 - val_accuracy: 0.8241\n",
            "Epoch 80/125\n",
            "625/625 [==============================] - 31s 49ms/step - loss: 0.5577 - accuracy: 0.8768 - val_loss: 0.6796 - val_accuracy: 0.8418\n",
            "Epoch 81/125\n",
            "625/625 [==============================] - 31s 49ms/step - loss: 0.5594 - accuracy: 0.8748 - val_loss: 0.7174 - val_accuracy: 0.8353\n",
            "Epoch 82/125\n",
            "625/625 [==============================] - 32s 51ms/step - loss: 0.5632 - accuracy: 0.8738 - val_loss: 0.7375 - val_accuracy: 0.8389\n",
            "Epoch 83/125\n",
            "625/625 [==============================] - 30s 48ms/step - loss: 0.5587 - accuracy: 0.8776 - val_loss: 0.6551 - val_accuracy: 0.8518\n",
            "Epoch 84/125\n",
            "625/625 [==============================] - 32s 51ms/step - loss: 0.5649 - accuracy: 0.8765 - val_loss: 0.6548 - val_accuracy: 0.8484\n",
            "Epoch 85/125\n",
            "625/625 [==============================] - 31s 49ms/step - loss: 0.5611 - accuracy: 0.8770 - val_loss: 0.7369 - val_accuracy: 0.8327\n",
            "Epoch 86/125\n",
            "625/625 [==============================] - 30s 48ms/step - loss: 0.5624 - accuracy: 0.8774 - val_loss: 0.6662 - val_accuracy: 0.8475\n",
            "Epoch 87/125\n",
            "625/625 [==============================] - 30s 48ms/step - loss: 0.5591 - accuracy: 0.8775 - val_loss: 0.6632 - val_accuracy: 0.8506\n",
            "Epoch 88/125\n",
            "625/625 [==============================] - 31s 50ms/step - loss: 0.5581 - accuracy: 0.8785 - val_loss: 0.6524 - val_accuracy: 0.8556\n",
            "Epoch 89/125\n",
            "625/625 [==============================] - 30s 48ms/step - loss: 0.5654 - accuracy: 0.8762 - val_loss: 0.6897 - val_accuracy: 0.8448\n",
            "Epoch 90/125\n",
            "625/625 [==============================] - 30s 48ms/step - loss: 0.5444 - accuracy: 0.8829 - val_loss: 0.6746 - val_accuracy: 0.8492\n",
            "Epoch 91/125\n",
            "625/625 [==============================] - 30s 47ms/step - loss: 0.5545 - accuracy: 0.8816 - val_loss: 0.7049 - val_accuracy: 0.8447\n",
            "Epoch 92/125\n",
            "625/625 [==============================] - 30s 49ms/step - loss: 0.5567 - accuracy: 0.8799 - val_loss: 0.6571 - val_accuracy: 0.8485\n",
            "Epoch 93/125\n",
            "625/625 [==============================] - 30s 48ms/step - loss: 0.5536 - accuracy: 0.8811 - val_loss: 0.6883 - val_accuracy: 0.8499\n",
            "Epoch 94/125\n",
            "625/625 [==============================] - 30s 49ms/step - loss: 0.5491 - accuracy: 0.8834 - val_loss: 0.6392 - val_accuracy: 0.8594\n",
            "Epoch 95/125\n",
            "625/625 [==============================] - 29s 47ms/step - loss: 0.5510 - accuracy: 0.8826 - val_loss: 0.6625 - val_accuracy: 0.8570\n",
            "Epoch 96/125\n",
            "625/625 [==============================] - 30s 48ms/step - loss: 0.5451 - accuracy: 0.8852 - val_loss: 0.6818 - val_accuracy: 0.8485\n",
            "Epoch 97/125\n",
            "625/625 [==============================] - 30s 49ms/step - loss: 0.5474 - accuracy: 0.8847 - val_loss: 0.7038 - val_accuracy: 0.8429\n",
            "Epoch 98/125\n",
            "625/625 [==============================] - 30s 49ms/step - loss: 0.5469 - accuracy: 0.8857 - val_loss: 0.6571 - val_accuracy: 0.8574\n",
            "Epoch 99/125\n",
            "625/625 [==============================] - 30s 47ms/step - loss: 0.5422 - accuracy: 0.8847 - val_loss: 0.6937 - val_accuracy: 0.8520\n",
            "Epoch 100/125\n",
            "625/625 [==============================] - 30s 48ms/step - loss: 0.5514 - accuracy: 0.8820 - val_loss: 0.6895 - val_accuracy: 0.8536\n",
            "Epoch 101/125\n",
            "625/625 [==============================] - 31s 50ms/step - loss: 0.5434 - accuracy: 0.8860 - val_loss: 0.6992 - val_accuracy: 0.8431\n",
            "Epoch 102/125\n",
            "625/625 [==============================] - 30s 48ms/step - loss: 0.5433 - accuracy: 0.8847 - val_loss: 0.8752 - val_accuracy: 0.8188\n",
            "Epoch 103/125\n",
            "625/625 [==============================] - 32s 51ms/step - loss: 0.5479 - accuracy: 0.8856 - val_loss: 0.6530 - val_accuracy: 0.8565\n",
            "Epoch 104/125\n",
            "625/625 [==============================] - 30s 48ms/step - loss: 0.5393 - accuracy: 0.8868 - val_loss: 0.6799 - val_accuracy: 0.8566\n",
            "Epoch 105/125\n",
            "625/625 [==============================] - 31s 50ms/step - loss: 0.5473 - accuracy: 0.8857 - val_loss: 0.6705 - val_accuracy: 0.8552\n",
            "Epoch 106/125\n",
            "625/625 [==============================] - 30s 48ms/step - loss: 0.5404 - accuracy: 0.8884 - val_loss: 0.6595 - val_accuracy: 0.8581\n",
            "Epoch 107/125\n",
            "625/625 [==============================] - 32s 51ms/step - loss: 0.5435 - accuracy: 0.8878 - val_loss: 0.6676 - val_accuracy: 0.8578\n",
            "Epoch 108/125\n",
            "625/625 [==============================] - 30s 47ms/step - loss: 0.5465 - accuracy: 0.8864 - val_loss: 0.6477 - val_accuracy: 0.8595\n",
            "Epoch 109/125\n",
            "625/625 [==============================] - 31s 50ms/step - loss: 0.5418 - accuracy: 0.8873 - val_loss: 0.6386 - val_accuracy: 0.8593\n",
            "Epoch 110/125\n",
            "625/625 [==============================] - 31s 49ms/step - loss: 0.5314 - accuracy: 0.8919 - val_loss: 0.6952 - val_accuracy: 0.8507\n",
            "Epoch 111/125\n",
            "625/625 [==============================] - 32s 51ms/step - loss: 0.5368 - accuracy: 0.8903 - val_loss: 0.6839 - val_accuracy: 0.8506\n",
            "Epoch 112/125\n",
            "625/625 [==============================] - 31s 49ms/step - loss: 0.5341 - accuracy: 0.8909 - val_loss: 0.7019 - val_accuracy: 0.8507\n",
            "Epoch 113/125\n",
            "625/625 [==============================] - 32s 51ms/step - loss: 0.5386 - accuracy: 0.8895 - val_loss: 0.6839 - val_accuracy: 0.8481\n",
            "Epoch 114/125\n",
            "625/625 [==============================] - 29s 47ms/step - loss: 0.5403 - accuracy: 0.8893 - val_loss: 0.7186 - val_accuracy: 0.8401\n",
            "Epoch 115/125\n",
            "625/625 [==============================] - 31s 50ms/step - loss: 0.5286 - accuracy: 0.8936 - val_loss: 0.6751 - val_accuracy: 0.8533\n",
            "Epoch 116/125\n",
            "625/625 [==============================] - 30s 47ms/step - loss: 0.5321 - accuracy: 0.8915 - val_loss: 0.6928 - val_accuracy: 0.8502\n",
            "Epoch 117/125\n",
            "625/625 [==============================] - 31s 50ms/step - loss: 0.5319 - accuracy: 0.8916 - val_loss: 0.7239 - val_accuracy: 0.8436\n",
            "Epoch 118/125\n",
            "625/625 [==============================] - 30s 47ms/step - loss: 0.5368 - accuracy: 0.8911 - val_loss: 0.7570 - val_accuracy: 0.8368\n",
            "Epoch 119/125\n",
            "625/625 [==============================] - 31s 49ms/step - loss: 0.5389 - accuracy: 0.8911 - val_loss: 0.7158 - val_accuracy: 0.8454\n",
            "Epoch 120/125\n",
            "625/625 [==============================] - 30s 49ms/step - loss: 0.5337 - accuracy: 0.8925 - val_loss: 0.6616 - val_accuracy: 0.8557\n",
            "Epoch 121/125\n",
            "625/625 [==============================] - 30s 48ms/step - loss: 0.5356 - accuracy: 0.8910 - val_loss: 0.6384 - val_accuracy: 0.8658\n",
            "Epoch 122/125\n",
            "625/625 [==============================] - 33s 53ms/step - loss: 0.5369 - accuracy: 0.8914 - val_loss: 0.6576 - val_accuracy: 0.8578\n",
            "Epoch 123/125\n",
            "625/625 [==============================] - 32s 50ms/step - loss: 0.5358 - accuracy: 0.8930 - val_loss: 0.6816 - val_accuracy: 0.8553\n",
            "Epoch 124/125\n",
            "625/625 [==============================] - 30s 48ms/step - loss: 0.5397 - accuracy: 0.8912 - val_loss: 0.7126 - val_accuracy: 0.8479\n",
            "Epoch 125/125\n",
            "625/625 [==============================] - 31s 50ms/step - loss: 0.5378 - accuracy: 0.8917 - val_loss: 0.6638 - val_accuracy: 0.8613\n"
          ]
        }
      ]
    },
    {
      "cell_type": "code",
      "source": [
        "pd.DataFrame(history.history).plot()"
      ],
      "metadata": {
        "colab": {
          "base_uri": "https://localhost:8080/",
          "height": 447
        },
        "id": "wVDJhutUvKYz",
        "outputId": "8082238a-8f9e-45b0-f4f1-16da97526402"
      },
      "execution_count": null,
      "outputs": [
        {
          "output_type": "execute_result",
          "data": {
            "text/plain": [
              "<Axes: >"
            ]
          },
          "metadata": {},
          "execution_count": 11
        },
        {
          "output_type": "display_data",
          "data": {
            "text/plain": [
              "<Figure size 640x480 with 1 Axes>"
            ],
            "image/png": "[encoded data removed]"
          },
          "metadata": {}
        }
      ]
    },
    {
      "cell_type": "code",
      "source": [
        "scores = model.evaluate(X_test, y_test)"
      ],
      "metadata": {
        "colab": {
          "base_uri": "https://localhost:8080/"
        },
        "id": "YT64wfEXn5Sd",
        "outputId": "35b08b44-7895-4417-fe2d-e65d2da9355c"
      },
      "execution_count": null,
      "outputs": [
        {
          "output_type": "stream",
          "name": "stdout",
          "text": [
            "313/313 [==============================] - 3s 8ms/step - loss: 0.6749 - accuracy: 0.8585\n"
          ]
        }
      ]
    },
    {
      "cell_type": "code",
      "source": [
        "pred = model.predict(X_test)"
      ],
      "metadata": {
        "id": "TNhMo7wyn-Tz",
        "outputId": "533de550-d358-49af-a925-20cc09380a62",
        "colab": {
          "base_uri": "https://localhost:8080/"
        }
      },
      "execution_count": null,
      "outputs": [
        {
          "output_type": "stream",
          "name": "stderr",
          "text": [
            "WARNING:tensorflow:AutoGraph could not transform <function Model.make_predict_function.<locals>.predict_function at 0x7cadfbbf30a0> and will run it as-is.\n",
            "Cause: Unable to locate the source code of <function Model.make_predict_function.<locals>.predict_function at 0x7cadfbbf30a0>. Note that functions defined in certain environments, like the interactive Python shell, do not expose their source code. If that is the case, you should define them in a .py source file. If you are certain the code is graph-compatible, wrap the call using @tf.autograph.experimental.do_not_convert. Original error: could not get source code\n",
            "To silence this warning, decorate the function with @tf.autograph.experimental.do_not_convert\n"
          ]
        },
        {
          "output_type": "stream",
          "name": "stdout",
          "text": [
            "WARNING: AutoGraph could not transform <function Model.make_predict_function.<locals>.predict_function at 0x7cadfbbf30a0> and will run it as-is.\n",
            "Cause: Unable to locate the source code of <function Model.make_predict_function.<locals>.predict_function at 0x7cadfbbf30a0>. Note that functions defined in certain environments, like the interactive Python shell, do not expose their source code. If that is the case, you should define them in a .py source file. If you are certain the code is graph-compatible, wrap the call using @tf.autograph.experimental.do_not_convert. Original error: could not get source code\n",
            "To silence this warning, decorate the function with @tf.autograph.experimental.do_not_convert\n",
            "313/313 [==============================] - 1s 4ms/step\n"
          ]
        }
      ]
    },
    {
      "cell_type": "code",
      "source": [
        "labels = ['Airplane', 'Automobile', 'Bird', 'Cat', 'Deer', 'Dog', 'Frog', 'Horse', 'Ship', 'Truck']\n",
        "y_pred = np.argmax(pred, axis=1)\n",
        "y_true = np.argmax(y_test, axis=1)\n",
        "errors = y_pred - y_true != 0"
      ],
      "metadata": {
        "id": "sOPIcbePoAso"
      },
      "execution_count": null,
      "outputs": []
    },
    {
      "cell_type": "code",
      "source": [
        "print(classification_report(y_true, y_pred))"
      ],
      "metadata": {
        "id": "SJdQPl79eMxG"
      },
      "execution_count": null,
      "outputs": []
    },
    {
      "cell_type": "code",
      "source": [
        "fig, axes = plt.subplots(5, 5, figsize=(12,12))\n",
        "axes = axes.ravel()\n",
        "\n",
        "for i in np.arange(25):\n",
        "    axes[i].imshow(X_test[i])\n",
        "    axes[i].set_title('True: %s \\nPredict: %s' % (labels[y_true[i]], labels[y_pred[i]]))\n",
        "    axes[i].axis('off')\n",
        "    plt.subplots_adjust(wspace=1)"
      ],
      "metadata": {
        "id": "7Vp8QU92e7fg"
      },
      "execution_count": null,
      "outputs": []
    },
    {
      "cell_type": "code",
      "source": [
        "fig, axes = plt.subplots(5, 5, figsize=(12,12))\n",
        "axes = axes.ravel()\n",
        "\n",
        "miss_pred = np.where(y_pred != y_true)[0]\n",
        "for i in np.arange(25):\n",
        "    axes[i].imshow(X_test[miss_pred[i]])\n",
        "    axes[i].set_title('True: %s \\nPredict: %s' % (labels[y_true[miss_pred[i]]], labels[y_pred[miss_pred[i]]]))\n",
        "    axes[i].axis('off')\n",
        "    plt.subplots_adjust(wspace=1)"
      ],
      "metadata": {
        "id": "s65Wk7ICe9IF"
      },
      "execution_count": null,
      "outputs": []
    },
    {
      "cell_type": "code",
      "source": [
        "model.save('cifar10_cnn.h5')"
      ],
      "metadata": {
        "id": "L2b75cTRe-_D"
      },
      "execution_count": null,
      "outputs": []
    }
  ]
}